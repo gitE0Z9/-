{
 "cells": [
  {
   "cell_type": "markdown",
   "id": "31b130c8-1b9f-4f06-bb6e-aa4348b375d4",
   "metadata": {},
   "source": [
    "# load package"
   ]
  },
  {
   "cell_type": "code",
   "execution_count": 59,
   "id": "ef7e96e7-ca05-46bb-b26c-57356bd16022",
   "metadata": {},
   "outputs": [],
   "source": [
    "import numpy as np\n",
    "import pandas as pd\n",
    "import seaborn as sb\n",
    "import matplotlib.pyplot as plt\n",
    "import sklearn\n",
    "from typing import Tuple\n",
    "from sklearn.impute import SimpleImputer\n",
    "from sklearn.pipeline import Pipeline\n",
    "from sklearn.model_selection import train_test_split, StratifiedKFold, cross_validate\n",
    "from sklearn.svm import SVC\n",
    "from sklearn.linear_model import LogisticRegression\n",
    "from sklearn.tree import DecisionTreeClassifier\n",
    "from sklearn.ensemble import RandomForestClassifier\n",
    "from sklearn.preprocessing import OneHotEncoder#, MinMaxScaler\n",
    "from sklearn.compose import ColumnTransformer\n",
    "from scipy.stats import chi2_contingency\n",
    "import shap"
   ]
  },
  {
   "cell_type": "markdown",
   "id": "26238e92-2f8c-4dd0-b52e-213f0ed67f83",
   "metadata": {},
   "source": [
    "# load data"
   ]
  },
  {
   "cell_type": "code",
   "execution_count": 2,
   "id": "fe39ec12-0143-453d-812c-e713595f2bbf",
   "metadata": {},
   "outputs": [],
   "source": [
    "train = pd.read_csv(\"train.csv\", index_col=[\"ID\"])"
   ]
  },
  {
   "cell_type": "code",
   "execution_count": 3,
   "id": "23bad39f-6ba2-40ea-97bb-28834d1d06ab",
   "metadata": {},
   "outputs": [],
   "source": [
    "CAT_COLS = [\n",
    "    'Month', 'OperatingSystems', 'Browser',\n",
    "    'Region', 'TrafficType', 'VisitorType', 'Weekend',\n",
    "]\n",
    "\n",
    "NUM_COLS = [\n",
    "    'Administrative', 'Administrative_Duration', 'Informational',\n",
    "    'Informational_Duration', 'ProductRelated', 'ProductRelated_Duration',\n",
    "    'BounceRates', 'ExitRates', 'PageValues', 'SpecialDay',\n",
    "]"
   ]
  },
  {
   "cell_type": "code",
   "execution_count": 4,
   "id": "b72591e5-7dfd-4272-ab73-4f71bda829c9",
   "metadata": {},
   "outputs": [],
   "source": [
    "TARGET = \"Revenue\""
   ]
  },
  {
   "cell_type": "code",
   "execution_count": 5,
   "id": "9f7ea328-0767-4d95-878e-879ffcd84e98",
   "metadata": {},
   "outputs": [
    {
     "data": {
      "text/html": [
       "<div>\n",
       "<style scoped>\n",
       "    .dataframe tbody tr th:only-of-type {\n",
       "        vertical-align: middle;\n",
       "    }\n",
       "\n",
       "    .dataframe tbody tr th {\n",
       "        vertical-align: top;\n",
       "    }\n",
       "\n",
       "    .dataframe thead th {\n",
       "        text-align: right;\n",
       "    }\n",
       "</style>\n",
       "<table border=\"1\" class=\"dataframe\">\n",
       "  <thead>\n",
       "    <tr style=\"text-align: right;\">\n",
       "      <th></th>\n",
       "      <th>Administrative</th>\n",
       "      <th>Administrative_Duration</th>\n",
       "      <th>Informational</th>\n",
       "      <th>Informational_Duration</th>\n",
       "      <th>ProductRelated</th>\n",
       "      <th>ProductRelated_Duration</th>\n",
       "      <th>BounceRates</th>\n",
       "      <th>ExitRates</th>\n",
       "      <th>PageValues</th>\n",
       "      <th>SpecialDay</th>\n",
       "      <th>Month</th>\n",
       "      <th>OperatingSystems</th>\n",
       "      <th>Browser</th>\n",
       "      <th>Region</th>\n",
       "      <th>TrafficType</th>\n",
       "      <th>VisitorType</th>\n",
       "      <th>Weekend</th>\n",
       "      <th>Revenue</th>\n",
       "    </tr>\n",
       "    <tr>\n",
       "      <th>ID</th>\n",
       "      <th></th>\n",
       "      <th></th>\n",
       "      <th></th>\n",
       "      <th></th>\n",
       "      <th></th>\n",
       "      <th></th>\n",
       "      <th></th>\n",
       "      <th></th>\n",
       "      <th></th>\n",
       "      <th></th>\n",
       "      <th></th>\n",
       "      <th></th>\n",
       "      <th></th>\n",
       "      <th></th>\n",
       "      <th></th>\n",
       "      <th></th>\n",
       "      <th></th>\n",
       "      <th></th>\n",
       "    </tr>\n",
       "  </thead>\n",
       "  <tbody>\n",
       "    <tr>\n",
       "      <th>8773</th>\n",
       "      <td>0</td>\n",
       "      <td>0.000000</td>\n",
       "      <td>0</td>\n",
       "      <td>0.0</td>\n",
       "      <td>1</td>\n",
       "      <td>0.000000</td>\n",
       "      <td>0.200000</td>\n",
       "      <td>0.200000</td>\n",
       "      <td>0.000000</td>\n",
       "      <td>0.4</td>\n",
       "      <td>2</td>\n",
       "      <td>3.0</td>\n",
       "      <td>11.0</td>\n",
       "      <td>3.0</td>\n",
       "      <td>7.0</td>\n",
       "      <td>2.0</td>\n",
       "      <td>0</td>\n",
       "      <td>0</td>\n",
       "    </tr>\n",
       "    <tr>\n",
       "      <th>6709</th>\n",
       "      <td>0</td>\n",
       "      <td>0.000000</td>\n",
       "      <td>0</td>\n",
       "      <td>0.0</td>\n",
       "      <td>1</td>\n",
       "      <td>0.000000</td>\n",
       "      <td>0.200000</td>\n",
       "      <td>0.200000</td>\n",
       "      <td>0.000000</td>\n",
       "      <td>0.0</td>\n",
       "      <td>9</td>\n",
       "      <td>1.0</td>\n",
       "      <td>10.0</td>\n",
       "      <td>0.0</td>\n",
       "      <td>8.0</td>\n",
       "      <td>2.0</td>\n",
       "      <td>0</td>\n",
       "      <td>0</td>\n",
       "    </tr>\n",
       "    <tr>\n",
       "      <th>1463</th>\n",
       "      <td>9</td>\n",
       "      <td>301.000000</td>\n",
       "      <td>0</td>\n",
       "      <td>0.0</td>\n",
       "      <td>38</td>\n",
       "      <td>2621.621429</td>\n",
       "      <td>0.021212</td>\n",
       "      <td>0.044508</td>\n",
       "      <td>10.721172</td>\n",
       "      <td>0.0</td>\n",
       "      <td>8</td>\n",
       "      <td>1.0</td>\n",
       "      <td>10.0</td>\n",
       "      <td>0.0</td>\n",
       "      <td>14.0</td>\n",
       "      <td>2.0</td>\n",
       "      <td>0</td>\n",
       "      <td>0</td>\n",
       "    </tr>\n",
       "    <tr>\n",
       "      <th>4095</th>\n",
       "      <td>2</td>\n",
       "      <td>13.333333</td>\n",
       "      <td>0</td>\n",
       "      <td>0.0</td>\n",
       "      <td>105</td>\n",
       "      <td>2062.443592</td>\n",
       "      <td>0.012205</td>\n",
       "      <td>0.020276</td>\n",
       "      <td>0.000000</td>\n",
       "      <td>0.6</td>\n",
       "      <td>2</td>\n",
       "      <td>5.0</td>\n",
       "      <td>10.0</td>\n",
       "      <td>0.0</td>\n",
       "      <td>7.0</td>\n",
       "      <td>2.0</td>\n",
       "      <td>0</td>\n",
       "      <td>0</td>\n",
       "    </tr>\n",
       "    <tr>\n",
       "      <th>3346</th>\n",
       "      <td>0</td>\n",
       "      <td>0.000000</td>\n",
       "      <td>0</td>\n",
       "      <td>0.0</td>\n",
       "      <td>19</td>\n",
       "      <td>220.384849</td>\n",
       "      <td>0.010526</td>\n",
       "      <td>0.024642</td>\n",
       "      <td>0.000000</td>\n",
       "      <td>0.0</td>\n",
       "      <td>2</td>\n",
       "      <td>1.0</td>\n",
       "      <td>1.0</td>\n",
       "      <td>0.0</td>\n",
       "      <td>7.0</td>\n",
       "      <td>2.0</td>\n",
       "      <td>0</td>\n",
       "      <td>0</td>\n",
       "    </tr>\n",
       "  </tbody>\n",
       "</table>\n",
       "</div>"
      ],
      "text/plain": [
       "      Administrative  Administrative_Duration  Informational  \\\n",
       "ID                                                             \n",
       "8773               0                 0.000000              0   \n",
       "6709               0                 0.000000              0   \n",
       "1463               9               301.000000              0   \n",
       "4095               2                13.333333              0   \n",
       "3346               0                 0.000000              0   \n",
       "\n",
       "      Informational_Duration  ProductRelated  ProductRelated_Duration  \\\n",
       "ID                                                                      \n",
       "8773                     0.0               1                 0.000000   \n",
       "6709                     0.0               1                 0.000000   \n",
       "1463                     0.0              38              2621.621429   \n",
       "4095                     0.0             105              2062.443592   \n",
       "3346                     0.0              19               220.384849   \n",
       "\n",
       "      BounceRates  ExitRates  PageValues  SpecialDay  Month  OperatingSystems  \\\n",
       "ID                                                                              \n",
       "8773     0.200000   0.200000    0.000000         0.4      2               3.0   \n",
       "6709     0.200000   0.200000    0.000000         0.0      9               1.0   \n",
       "1463     0.021212   0.044508   10.721172         0.0      8               1.0   \n",
       "4095     0.012205   0.020276    0.000000         0.6      2               5.0   \n",
       "3346     0.010526   0.024642    0.000000         0.0      2               1.0   \n",
       "\n",
       "      Browser  Region  TrafficType  VisitorType  Weekend  Revenue  \n",
       "ID                                                                 \n",
       "8773     11.0     3.0          7.0          2.0        0        0  \n",
       "6709     10.0     0.0          8.0          2.0        0        0  \n",
       "1463     10.0     0.0         14.0          2.0        0        0  \n",
       "4095     10.0     0.0          7.0          2.0        0        0  \n",
       "3346      1.0     0.0          7.0          2.0        0        0  "
      ]
     },
     "execution_count": 5,
     "metadata": {},
     "output_type": "execute_result"
    }
   ],
   "source": [
    "train.head()"
   ]
  },
  {
   "cell_type": "code",
   "execution_count": 6,
   "id": "6c945526-79dd-476e-bdfe-0a4a429aa8f7",
   "metadata": {},
   "outputs": [
    {
     "data": {
      "text/html": [
       "<div>\n",
       "<style scoped>\n",
       "    .dataframe tbody tr th:only-of-type {\n",
       "        vertical-align: middle;\n",
       "    }\n",
       "\n",
       "    .dataframe tbody tr th {\n",
       "        vertical-align: top;\n",
       "    }\n",
       "\n",
       "    .dataframe thead th {\n",
       "        text-align: right;\n",
       "    }\n",
       "</style>\n",
       "<table border=\"1\" class=\"dataframe\">\n",
       "  <thead>\n",
       "    <tr style=\"text-align: right;\">\n",
       "      <th></th>\n",
       "      <th>Administrative</th>\n",
       "      <th>Administrative_Duration</th>\n",
       "      <th>Informational</th>\n",
       "      <th>Informational_Duration</th>\n",
       "      <th>ProductRelated</th>\n",
       "      <th>ProductRelated_Duration</th>\n",
       "      <th>BounceRates</th>\n",
       "      <th>ExitRates</th>\n",
       "      <th>PageValues</th>\n",
       "      <th>SpecialDay</th>\n",
       "      <th>Month</th>\n",
       "      <th>OperatingSystems</th>\n",
       "      <th>Browser</th>\n",
       "      <th>Region</th>\n",
       "      <th>TrafficType</th>\n",
       "      <th>VisitorType</th>\n",
       "      <th>Weekend</th>\n",
       "      <th>Revenue</th>\n",
       "    </tr>\n",
       "  </thead>\n",
       "  <tbody>\n",
       "    <tr>\n",
       "      <th>count</th>\n",
       "      <td>8100.000000</td>\n",
       "      <td>8100.000000</td>\n",
       "      <td>8100.000000</td>\n",
       "      <td>8100.000000</td>\n",
       "      <td>8100.000000</td>\n",
       "      <td>8.099000e+03</td>\n",
       "      <td>8100.000000</td>\n",
       "      <td>8100.000000</td>\n",
       "      <td>8100.000000</td>\n",
       "      <td>8100.000000</td>\n",
       "      <td>8100.000000</td>\n",
       "      <td>8099.000000</td>\n",
       "      <td>8099.000000</td>\n",
       "      <td>8099.000000</td>\n",
       "      <td>8099.000000</td>\n",
       "      <td>8099.000000</td>\n",
       "      <td>8100.000000</td>\n",
       "      <td>8100.000000</td>\n",
       "    </tr>\n",
       "    <tr>\n",
       "      <th>mean</th>\n",
       "      <td>2.309877</td>\n",
       "      <td>80.926113</td>\n",
       "      <td>0.498025</td>\n",
       "      <td>32.884300</td>\n",
       "      <td>31.787160</td>\n",
       "      <td>8.311549e+04</td>\n",
       "      <td>0.020345</td>\n",
       "      <td>0.042699</td>\n",
       "      <td>5.744406</td>\n",
       "      <td>0.060469</td>\n",
       "      <td>4.806049</td>\n",
       "      <td>2.236202</td>\n",
       "      <td>7.782813</td>\n",
       "      <td>2.685146</td>\n",
       "      <td>7.669342</td>\n",
       "      <td>1.847389</td>\n",
       "      <td>0.253210</td>\n",
       "      <td>0.157654</td>\n",
       "    </tr>\n",
       "    <tr>\n",
       "      <th>std</th>\n",
       "      <td>3.311618</td>\n",
       "      <td>180.089694</td>\n",
       "      <td>1.258087</td>\n",
       "      <td>135.210888</td>\n",
       "      <td>44.961092</td>\n",
       "      <td>6.359096e+06</td>\n",
       "      <td>0.131949</td>\n",
       "      <td>0.047943</td>\n",
       "      <td>17.940567</td>\n",
       "      <td>0.197809</td>\n",
       "      <td>3.175648</td>\n",
       "      <td>1.654721</td>\n",
       "      <td>3.309934</td>\n",
       "      <td>2.668688</td>\n",
       "      <td>3.907496</td>\n",
       "      <td>0.377722</td>\n",
       "      <td>1.188062</td>\n",
       "      <td>0.364439</td>\n",
       "    </tr>\n",
       "    <tr>\n",
       "      <th>min</th>\n",
       "      <td>0.000000</td>\n",
       "      <td>0.000000</td>\n",
       "      <td>0.000000</td>\n",
       "      <td>0.000000</td>\n",
       "      <td>0.000000</td>\n",
       "      <td>0.000000e+00</td>\n",
       "      <td>-11.000000</td>\n",
       "      <td>0.000000</td>\n",
       "      <td>0.000000</td>\n",
       "      <td>0.000000</td>\n",
       "      <td>0.000000</td>\n",
       "      <td>0.000000</td>\n",
       "      <td>0.000000</td>\n",
       "      <td>0.000000</td>\n",
       "      <td>0.000000</td>\n",
       "      <td>0.000000</td>\n",
       "      <td>0.000000</td>\n",
       "      <td>0.000000</td>\n",
       "    </tr>\n",
       "    <tr>\n",
       "      <th>25%</th>\n",
       "      <td>0.000000</td>\n",
       "      <td>0.000000</td>\n",
       "      <td>0.000000</td>\n",
       "      <td>0.000000</td>\n",
       "      <td>7.000000</td>\n",
       "      <td>1.837708e+02</td>\n",
       "      <td>0.000000</td>\n",
       "      <td>0.014286</td>\n",
       "      <td>0.000000</td>\n",
       "      <td>0.000000</td>\n",
       "      <td>2.000000</td>\n",
       "      <td>1.000000</td>\n",
       "      <td>3.000000</td>\n",
       "      <td>0.000000</td>\n",
       "      <td>4.000000</td>\n",
       "      <td>2.000000</td>\n",
       "      <td>0.000000</td>\n",
       "      <td>0.000000</td>\n",
       "    </tr>\n",
       "    <tr>\n",
       "      <th>50%</th>\n",
       "      <td>1.000000</td>\n",
       "      <td>7.000000</td>\n",
       "      <td>0.000000</td>\n",
       "      <td>0.000000</td>\n",
       "      <td>18.000000</td>\n",
       "      <td>5.988738e+02</td>\n",
       "      <td>0.003203</td>\n",
       "      <td>0.025129</td>\n",
       "      <td>0.000000</td>\n",
       "      <td>0.000000</td>\n",
       "      <td>4.000000</td>\n",
       "      <td>1.000000</td>\n",
       "      <td>10.000000</td>\n",
       "      <td>2.000000</td>\n",
       "      <td>8.000000</td>\n",
       "      <td>2.000000</td>\n",
       "      <td>0.000000</td>\n",
       "      <td>0.000000</td>\n",
       "    </tr>\n",
       "    <tr>\n",
       "      <th>75%</th>\n",
       "      <td>4.000000</td>\n",
       "      <td>91.988636</td>\n",
       "      <td>0.000000</td>\n",
       "      <td>0.000000</td>\n",
       "      <td>38.000000</td>\n",
       "      <td>1.462142e+03</td>\n",
       "      <td>0.016925</td>\n",
       "      <td>0.050000</td>\n",
       "      <td>0.000000</td>\n",
       "      <td>0.000000</td>\n",
       "      <td>8.000000</td>\n",
       "      <td>3.000000</td>\n",
       "      <td>10.000000</td>\n",
       "      <td>6.000000</td>\n",
       "      <td>12.000000</td>\n",
       "      <td>2.000000</td>\n",
       "      <td>0.000000</td>\n",
       "      <td>0.000000</td>\n",
       "    </tr>\n",
       "    <tr>\n",
       "      <th>max</th>\n",
       "      <td>27.000000</td>\n",
       "      <td>3398.750000</td>\n",
       "      <td>24.000000</td>\n",
       "      <td>2549.375000</td>\n",
       "      <td>705.000000</td>\n",
       "      <td>5.634924e+08</td>\n",
       "      <td>0.200000</td>\n",
       "      <td>0.200000</td>\n",
       "      <td>287.953793</td>\n",
       "      <td>1.000000</td>\n",
       "      <td>13.000000</td>\n",
       "      <td>7.000000</td>\n",
       "      <td>12.000000</td>\n",
       "      <td>8.000000</td>\n",
       "      <td>19.000000</td>\n",
       "      <td>2.000000</td>\n",
       "      <td>100.000000</td>\n",
       "      <td>1.000000</td>\n",
       "    </tr>\n",
       "  </tbody>\n",
       "</table>\n",
       "</div>"
      ],
      "text/plain": [
       "       Administrative  Administrative_Duration  Informational  \\\n",
       "count     8100.000000              8100.000000    8100.000000   \n",
       "mean         2.309877                80.926113       0.498025   \n",
       "std          3.311618               180.089694       1.258087   \n",
       "min          0.000000                 0.000000       0.000000   \n",
       "25%          0.000000                 0.000000       0.000000   \n",
       "50%          1.000000                 7.000000       0.000000   \n",
       "75%          4.000000                91.988636       0.000000   \n",
       "max         27.000000              3398.750000      24.000000   \n",
       "\n",
       "       Informational_Duration  ProductRelated  ProductRelated_Duration  \\\n",
       "count             8100.000000     8100.000000             8.099000e+03   \n",
       "mean                32.884300       31.787160             8.311549e+04   \n",
       "std                135.210888       44.961092             6.359096e+06   \n",
       "min                  0.000000        0.000000             0.000000e+00   \n",
       "25%                  0.000000        7.000000             1.837708e+02   \n",
       "50%                  0.000000       18.000000             5.988738e+02   \n",
       "75%                  0.000000       38.000000             1.462142e+03   \n",
       "max               2549.375000      705.000000             5.634924e+08   \n",
       "\n",
       "       BounceRates    ExitRates   PageValues   SpecialDay        Month  \\\n",
       "count  8100.000000  8100.000000  8100.000000  8100.000000  8100.000000   \n",
       "mean      0.020345     0.042699     5.744406     0.060469     4.806049   \n",
       "std       0.131949     0.047943    17.940567     0.197809     3.175648   \n",
       "min     -11.000000     0.000000     0.000000     0.000000     0.000000   \n",
       "25%       0.000000     0.014286     0.000000     0.000000     2.000000   \n",
       "50%       0.003203     0.025129     0.000000     0.000000     4.000000   \n",
       "75%       0.016925     0.050000     0.000000     0.000000     8.000000   \n",
       "max       0.200000     0.200000   287.953793     1.000000    13.000000   \n",
       "\n",
       "       OperatingSystems      Browser       Region  TrafficType  VisitorType  \\\n",
       "count       8099.000000  8099.000000  8099.000000  8099.000000  8099.000000   \n",
       "mean           2.236202     7.782813     2.685146     7.669342     1.847389   \n",
       "std            1.654721     3.309934     2.668688     3.907496     0.377722   \n",
       "min            0.000000     0.000000     0.000000     0.000000     0.000000   \n",
       "25%            1.000000     3.000000     0.000000     4.000000     2.000000   \n",
       "50%            1.000000    10.000000     2.000000     8.000000     2.000000   \n",
       "75%            3.000000    10.000000     6.000000    12.000000     2.000000   \n",
       "max            7.000000    12.000000     8.000000    19.000000     2.000000   \n",
       "\n",
       "           Weekend      Revenue  \n",
       "count  8100.000000  8100.000000  \n",
       "mean      0.253210     0.157654  \n",
       "std       1.188062     0.364439  \n",
       "min       0.000000     0.000000  \n",
       "25%       0.000000     0.000000  \n",
       "50%       0.000000     0.000000  \n",
       "75%       0.000000     0.000000  \n",
       "max     100.000000     1.000000  "
      ]
     },
     "execution_count": 6,
     "metadata": {},
     "output_type": "execute_result"
    }
   ],
   "source": [
    "train.describe()"
   ]
  },
  {
   "cell_type": "markdown",
   "id": "4464d198-f55a-43b1-ac32-4c15d5899b82",
   "metadata": {},
   "source": [
    "# 名詞\n",
    "\n",
    "1. 跳出率: 離開網站\n",
    "2. 退出率: 離開頁面"
   ]
  },
  {
   "cell_type": "markdown",
   "id": "1e66676d-3d25-4f65-a3ff-b4169f342baa",
   "metadata": {},
   "source": [
    "# 資料異常\n",
    "\n",
    "1. 負的跳出率\n",
    "2. 月份 13\n",
    "2. 周末 100"
   ]
  },
  {
   "cell_type": "markdown",
   "id": "fd1301e4-161d-48d0-a87c-4a20d384f517",
   "metadata": {},
   "source": [
    "# transform"
   ]
  },
  {
   "cell_type": "markdown",
   "id": "f0298a08-4fff-4fe8-92e8-0c2717fa5cf9",
   "metadata": {},
   "source": [
    "數值欄位: \n",
    "1. 缺值填上平均值\n",
    "\n",
    "類別欄位:\n",
    "1. 缺值填上眾數\n",
    "2. 轉為dummy\n",
    "\n",
    "其他:\n",
    "1. browse duration 單位改秒\n",
    "3. 跳出率為負的改為平均值\n",
    "4. 月份13改為眾數\n",
    "5. 移除產品頁瀏覽時間超過mean+3個sd的值\n",
    "6. 週末100改為眾數"
   ]
  },
  {
   "cell_type": "code",
   "execution_count": 7,
   "id": "7200c6a1-d168-40ab-980f-3983e1c20c7f",
   "metadata": {},
   "outputs": [],
   "source": [
    "train['Administrative_Duration'] /= 1000\n",
    "train['Informational_Duration'] /= 1000\n",
    "train['ProductRelated_Duration'] /= 1000"
   ]
  },
  {
   "cell_type": "code",
   "execution_count": 8,
   "id": "84a34396-8e9a-4c2e-967c-c41d6956e57f",
   "metadata": {},
   "outputs": [],
   "source": [
    "train.loc[train.BounceRates.lt(0), 'BounceRates'] = None"
   ]
  },
  {
   "cell_type": "code",
   "execution_count": 9,
   "id": "62efd928-6617-4c54-93e5-df847c68b222",
   "metadata": {},
   "outputs": [],
   "source": [
    "train.loc[train.Month.eq(13), 'Month'] = None"
   ]
  },
  {
   "cell_type": "code",
   "execution_count": 10,
   "id": "89367c0e-b8d5-45ef-a5e9-83e83ef6dc75",
   "metadata": {},
   "outputs": [],
   "source": [
    "train.loc[train.Weekend.eq(100), 'Weekend'] = None"
   ]
  },
  {
   "cell_type": "code",
   "execution_count": 11,
   "id": "eb931be2-26cc-4fbe-997b-58ee851c8e31",
   "metadata": {},
   "outputs": [],
   "source": [
    "upperBound = train.ProductRelated_Duration.mean() + 3 * train.ProductRelated_Duration.std()\n",
    "train.loc[train.ProductRelated_Duration.gt(upperBound), 'ProductRelated_Duration'] = None"
   ]
  },
  {
   "cell_type": "code",
   "execution_count": 12,
   "id": "255b9e04-80d4-402e-9d4e-ad162aa83f31",
   "metadata": {},
   "outputs": [
    {
     "data": {
      "text/plain": [
       "<AxesSubplot:>"
      ]
     },
     "execution_count": 12,
     "metadata": {},
     "output_type": "execute_result"
    },
    {
     "data": {
      "image/png": "[encoded data removed]",
      "text/plain": [
       "<Figure size 2304x576 with 1 Axes>"
      ]
     },
     "metadata": {
      "needs_background": "light"
     },
     "output_type": "display_data"
    }
   ],
   "source": [
    "train.boxplot(figsize=(32,8))"
   ]
  },
  {
   "cell_type": "code",
   "execution_count": 13,
   "id": "f906dd9f-0741-4c0a-b798-6a33d079bcc2",
   "metadata": {},
   "outputs": [],
   "source": [
    "numericalColumnsTransform = []\n",
    "\n",
    "for col in NUM_COLS:\n",
    "    numericalColumnsTransform.append(\n",
    "        (f'{col}_impute', SimpleImputer(strategy=\"mean\"), [col]),\n",
    "    )\n",
    "#     numericalColumnsTransform.append(\n",
    "#         (f'{col}_scale', MinMaxScaler(), [col]),\n",
    "#     )\n",
    "\n",
    "numericalColumnsTransformer = ColumnTransformer(numericalColumnsTransform)"
   ]
  },
  {
   "cell_type": "code",
   "execution_count": 14,
   "id": "c1e56b50-56e8-4802-b65f-94a0d2699f37",
   "metadata": {},
   "outputs": [],
   "source": [
    "categoricalColumnsTransform = []\n",
    "\n",
    "for col in CAT_COLS:\n",
    "    categoricalColumnsTransform.append(\n",
    "        (f'{col}_impute', SimpleImputer(strategy=\"most_frequent\"), [col]),\n",
    "    )\n",
    "    categoricalColumnsTransform.append(\n",
    "        (f'{col}_onehot', OneHotEncoder(handle_unknown='ignore'), [col]),\n",
    "    )\n",
    "\n",
    "categoricalColumnsTransformer = ColumnTransformer(categoricalColumnsTransform)"
   ]
  },
  {
   "cell_type": "code",
   "execution_count": 15,
   "id": "79f9bc5e-1e3e-412c-ad0b-ef5201788064",
   "metadata": {},
   "outputs": [],
   "source": [
    "Transformer = ColumnTransformer([*numericalColumnsTransform, *categoricalColumnsTransform])"
   ]
  },
  {
   "cell_type": "code",
   "execution_count": 115,
   "id": "6c3a1071-0114-4f59-9e7b-b0e540a72954",
   "metadata": {},
   "outputs": [],
   "source": [
    "def pipeBuilder(modelClass, **kwargs) -> Pipeline:\n",
    "    return Pipeline([\n",
    "        ('transform', Transformer),\n",
    "        ('classifier', modelClass(**kwargs)),\n",
    "    ])"
   ]
  },
  {
   "cell_type": "markdown",
   "id": "dd865c3a-023a-47d8-b6a3-9446404cdbaa",
   "metadata": {},
   "source": [
    "# selection"
   ]
  },
  {
   "cell_type": "markdown",
   "id": "210763d7-fc0f-433f-ba7b-35331e08b956",
   "metadata": {},
   "source": [
    "經由 stratified 10 fold CV\n",
    "挑選演算法\n",
    "\n",
    "訓練集中 85%為沒訂房，15%為訂房"
   ]
  },
  {
   "cell_type": "code",
   "execution_count": 116,
   "id": "afb94494-c148-4895-b7e3-73afb292ec6a",
   "metadata": {},
   "outputs": [],
   "source": [
    "pipes = {\n",
    "    \"logistic\": pipeBuilder(LogisticRegression, max_iter=100),\n",
    "    \"rf\": pipeBuilder(RandomForestClassifier),\n",
    "    \"df\": pipeBuilder(DecisionTreeClassifier),\n",
    "    \"svc\": pipeBuilder(SVC),\n",
    "}"
   ]
  },
  {
   "cell_type": "code",
   "execution_count": 21,
   "id": "e4e48740-9436-4744-8112-9aea87eccf8c",
   "metadata": {},
   "outputs": [],
   "source": [
    "# def split_wrapper(df: pd.DataFrame, targetCol: str, splitRatio: float = 0.2) -> Tuple[pd.DataFrame]:\n",
    "#     return train_test_split(df.drop(columns=[targetCol]), df[targetCol], test_size= splitRatio, stratify=df[targetCol])"
   ]
  },
  {
   "cell_type": "code",
   "execution_count": 22,
   "id": "cfe4a9ff-f922-4152-97b9-b1e9ba226f2e",
   "metadata": {},
   "outputs": [],
   "source": [
    "# X_train, X_test, y_train, y_test = split_wrapper(train, TARGET)"
   ]
  },
  {
   "cell_type": "code",
   "execution_count": 109,
   "id": "3d875e0b-3bae-4b8b-bfe4-01ab0792889d",
   "metadata": {},
   "outputs": [],
   "source": [
    "cv = StratifiedKFold(n_splits=10)"
   ]
  },
  {
   "cell_type": "code",
   "execution_count": 24,
   "id": "5ee0cd13-96ee-4aa8-9409-a85c2abb2701",
   "metadata": {
    "tags": []
   },
   "outputs": [
    {
     "name": "stderr",
     "output_type": "stream",
     "text": [
      "lbfgs failed to converge (status=1):\n",
      "STOP: TOTAL NO. of ITERATIONS REACHED LIMIT.\n",
      "\n",
      "Increase the number of iterations (max_iter) or scale the data as shown in:\n",
      "    https://scikit-learn.org/stable/modules/preprocessing.html\n",
      "Please also refer to the documentation for alternative solver options:\n",
      "    https://scikit-learn.org/stable/modules/linear_model.html#logistic-regression\n",
      "lbfgs failed to converge (status=1):\n",
      "STOP: TOTAL NO. of ITERATIONS REACHED LIMIT.\n",
      "\n",
      "Increase the number of iterations (max_iter) or scale the data as shown in:\n",
      "    https://scikit-learn.org/stable/modules/preprocessing.html\n",
      "Please also refer to the documentation for alternative solver options:\n",
      "    https://scikit-learn.org/stable/modules/linear_model.html#logistic-regression\n",
      "lbfgs failed to converge (status=1):\n",
      "STOP: TOTAL NO. of ITERATIONS REACHED LIMIT.\n",
      "\n",
      "Increase the number of iterations (max_iter) or scale the data as shown in:\n",
      "    https://scikit-learn.org/stable/modules/preprocessing.html\n",
      "Please also refer to the documentation for alternative solver options:\n",
      "    https://scikit-learn.org/stable/modules/linear_model.html#logistic-regression\n",
      "lbfgs failed to converge (status=1):\n",
      "STOP: TOTAL NO. of ITERATIONS REACHED LIMIT.\n",
      "\n",
      "Increase the number of iterations (max_iter) or scale the data as shown in:\n",
      "    https://scikit-learn.org/stable/modules/preprocessing.html\n",
      "Please also refer to the documentation for alternative solver options:\n",
      "    https://scikit-learn.org/stable/modules/linear_model.html#logistic-regression\n",
      "lbfgs failed to converge (status=1):\n",
      "STOP: TOTAL NO. of ITERATIONS REACHED LIMIT.\n",
      "\n",
      "Increase the number of iterations (max_iter) or scale the data as shown in:\n",
      "    https://scikit-learn.org/stable/modules/preprocessing.html\n",
      "Please also refer to the documentation for alternative solver options:\n",
      "    https://scikit-learn.org/stable/modules/linear_model.html#logistic-regression\n",
      "lbfgs failed to converge (status=1):\n",
      "STOP: TOTAL NO. of ITERATIONS REACHED LIMIT.\n",
      "\n",
      "Increase the number of iterations (max_iter) or scale the data as shown in:\n",
      "    https://scikit-learn.org/stable/modules/preprocessing.html\n",
      "Please also refer to the documentation for alternative solver options:\n",
      "    https://scikit-learn.org/stable/modules/linear_model.html#logistic-regression\n",
      "lbfgs failed to converge (status=1):\n",
      "STOP: TOTAL NO. of ITERATIONS REACHED LIMIT.\n",
      "\n",
      "Increase the number of iterations (max_iter) or scale the data as shown in:\n",
      "    https://scikit-learn.org/stable/modules/preprocessing.html\n",
      "Please also refer to the documentation for alternative solver options:\n",
      "    https://scikit-learn.org/stable/modules/linear_model.html#logistic-regression\n",
      "lbfgs failed to converge (status=1):\n",
      "STOP: TOTAL NO. of ITERATIONS REACHED LIMIT.\n",
      "\n",
      "Increase the number of iterations (max_iter) or scale the data as shown in:\n",
      "    https://scikit-learn.org/stable/modules/preprocessing.html\n",
      "Please also refer to the documentation for alternative solver options:\n",
      "    https://scikit-learn.org/stable/modules/linear_model.html#logistic-regression\n",
      "lbfgs failed to converge (status=1):\n",
      "STOP: TOTAL NO. of ITERATIONS REACHED LIMIT.\n",
      "\n",
      "Increase the number of iterations (max_iter) or scale the data as shown in:\n",
      "    https://scikit-learn.org/stable/modules/preprocessing.html\n",
      "Please also refer to the documentation for alternative solver options:\n",
      "    https://scikit-learn.org/stable/modules/linear_model.html#logistic-regression\n",
      "lbfgs failed to converge (status=1):\n",
      "STOP: TOTAL NO. of ITERATIONS REACHED LIMIT.\n",
      "\n",
      "Increase the number of iterations (max_iter) or scale the data as shown in:\n",
      "    https://scikit-learn.org/stable/modules/preprocessing.html\n",
      "Please also refer to the documentation for alternative solver options:\n",
      "    https://scikit-learn.org/stable/modules/linear_model.html#logistic-regression\n"
     ]
    }
   ],
   "source": [
    "cvResults = {\n",
    "    modelName: cross_validate(pipe, train.drop(columns=[TARGET]), train[TARGET], cv=cv)\n",
    "    for modelName, pipe in pipes.items()\n",
    "}"
   ]
  },
  {
   "cell_type": "code",
   "execution_count": 25,
   "id": "1552b2ac-8529-41f5-9934-1181871abae4",
   "metadata": {
    "tags": []
   },
   "outputs": [],
   "source": [
    "scores = {\n",
    "    modelName: cvResult['test_score']\n",
    "    for modelName, cvResult in cvResults.items()\n",
    "}"
   ]
  },
  {
   "cell_type": "code",
   "execution_count": 27,
   "id": "687a0368-fa62-43fe-9a4a-7c8c8f2471d4",
   "metadata": {},
   "outputs": [
    {
     "data": {
      "text/plain": [
       "{'logistic': 0.8816049382716049,\n",
       " 'rf': 0.8969135802469135,\n",
       " 'df': 0.8580246913580247,\n",
       " 'svc': 0.8941975308641975}"
      ]
     },
     "execution_count": 27,
     "metadata": {},
     "output_type": "execute_result"
    }
   ],
   "source": [
    "{modelName: np.mean(score) for modelName, score in scores.items()}"
   ]
  },
  {
   "cell_type": "markdown",
   "id": "6925c815-2716-4d33-9949-8a625b16bf34",
   "metadata": {},
   "source": [
    "# tuning"
   ]
  },
  {
   "cell_type": "code",
   "execution_count": 118,
   "id": "8aca8a2a-ce5c-4a52-9a7d-d7e7806c8d44",
   "metadata": {},
   "outputs": [],
   "source": [
    "tunePipes = {\n",
    "    index: pipeBuilder(RandomForestClassifier, max_depth=depth)\n",
    "    for index, depth in enumerate([5, 9, 15])\n",
    "}"
   ]
  },
  {
   "cell_type": "code",
   "execution_count": 119,
   "id": "c5fd6ce3-15ce-4f36-a342-7dcec7950816",
   "metadata": {},
   "outputs": [],
   "source": [
    "cv = StratifiedKFold(n_splits=10)"
   ]
  },
  {
   "cell_type": "code",
   "execution_count": 120,
   "id": "3d81d7de-364c-43a0-b48f-419c2a5464e2",
   "metadata": {
    "tags": []
   },
   "outputs": [],
   "source": [
    "cvResults = {\n",
    "    modelName: cross_validate(pipe, train.drop(columns=[TARGET]), train[TARGET], cv=cv)\n",
    "    for modelName, pipe in tunePipes.items()\n",
    "}"
   ]
  },
  {
   "cell_type": "code",
   "execution_count": 121,
   "id": "b6ecda4f-1ef1-4ac3-be9c-6a025ae831b1",
   "metadata": {
    "tags": []
   },
   "outputs": [],
   "source": [
    "scores = {\n",
    "    modelName: cvResult['test_score']\n",
    "    for modelName, cvResult in cvResults.items()\n",
    "}"
   ]
  },
  {
   "cell_type": "code",
   "execution_count": 122,
   "id": "9c296593-b636-4bcc-ba11-7919f0873b7c",
   "metadata": {},
   "outputs": [
    {
     "data": {
      "text/plain": [
       "{0: 0.852962962962963, 1: 0.892469135802469, 2: 0.9003703703703703}"
      ]
     },
     "execution_count": 122,
     "metadata": {},
     "output_type": "execute_result"
    }
   ],
   "source": [
    "{modelName: np.mean(score) for modelName, score in scores.items()}"
   ]
  },
  {
   "cell_type": "markdown",
   "id": "bbaecc86-d1e0-429a-9a8c-61879888247d",
   "metadata": {},
   "source": [
    "# training"
   ]
  },
  {
   "cell_type": "code",
   "execution_count": 123,
   "id": "81faf3aa-c684-4387-a0c1-244592ab75b6",
   "metadata": {},
   "outputs": [],
   "source": [
    "rfPipe = pipeBuilder(RandomForestClassifier)"
   ]
  },
  {
   "cell_type": "code",
   "execution_count": 124,
   "id": "00825f18-5366-4102-bbff-0f5d51e12737",
   "metadata": {},
   "outputs": [],
   "source": [
    "X, Y = train.drop(columns=[TARGET]), train[TARGET]"
   ]
  },
  {
   "cell_type": "code",
   "execution_count": 125,
   "id": "be3f1f03-8ab5-435a-91f6-179d55fa4218",
   "metadata": {},
   "outputs": [
    {
     "data": {
      "text/plain": [
       "Pipeline(steps=[('transform',\n",
       "                 ColumnTransformer(transformers=[('Administrative_impute',\n",
       "                                                  SimpleImputer(),\n",
       "                                                  ['Administrative']),\n",
       "                                                 ('Administrative_Duration_impute',\n",
       "                                                  SimpleImputer(),\n",
       "                                                  ['Administrative_Duration']),\n",
       "                                                 ('Informational_impute',\n",
       "                                                  SimpleImputer(),\n",
       "                                                  ['Informational']),\n",
       "                                                 ('Informational_Duration_impute',\n",
       "                                                  SimpleImputer(),\n",
       "                                                  ['Informational_Duration']),\n",
       "                                                 ('ProductRela...\n",
       "                                                  ['TrafficType']),\n",
       "                                                 ('VisitorType_impute',\n",
       "                                                  SimpleImputer(strategy='most_frequent'),\n",
       "                                                  ['VisitorType']),\n",
       "                                                 ('VisitorType_onehot',\n",
       "                                                  OneHotEncoder(handle_unknown='ignore'),\n",
       "                                                  ['VisitorType']),\n",
       "                                                 ('Weekend_impute',\n",
       "                                                  SimpleImputer(strategy='most_frequent'),\n",
       "                                                  ['Weekend']),\n",
       "                                                 ('Weekend_onehot',\n",
       "                                                  OneHotEncoder(handle_unknown='ignore'),\n",
       "                                                  ['Weekend'])])),\n",
       "                ('classifier', RandomForestClassifier())])"
      ]
     },
     "execution_count": 125,
     "metadata": {},
     "output_type": "execute_result"
    }
   ],
   "source": [
    "rfPipe.fit(X, Y)"
   ]
  },
  {
   "cell_type": "markdown",
   "id": "02580b5c-cf61-419d-b1fd-06c66ffb5429",
   "metadata": {},
   "source": [
    "# features"
   ]
  },
  {
   "cell_type": "markdown",
   "id": "5e1f854e-f6d5-4c1b-8dc2-b029c16bd44d",
   "metadata": {},
   "source": [
    "從gini係數的角度來看，最有影響力的特徵是\n",
    "1. 頁面價值\n",
    "2. 退出率\n",
    "3. 產品頁面瀏覽時間\n",
    "\n",
    "從分布上來看也符合"
   ]
  },
  {
   "cell_type": "code",
   "execution_count": 127,
   "id": "c3776bef-93a2-485a-9a89-dbc6fbb49da5",
   "metadata": {},
   "outputs": [],
   "source": [
    "clf = rfPipe.named_steps['classifier']"
   ]
  },
  {
   "cell_type": "code",
   "execution_count": 128,
   "id": "80343998-0fe4-4cb6-bcf2-796e6a987ce3",
   "metadata": {},
   "outputs": [
    {
     "data": {
      "text/plain": [
       "(array([ 0,  1,  2,  3,  4,  5,  6,  7,  8,  9, 10, 11, 12, 13, 14, 15, 16,\n",
       "        17, 18, 19, 20, 21, 22, 23, 24, 25, 26, 27, 28, 29, 30, 31, 32, 33,\n",
       "        34, 35, 36, 37, 38, 39, 40, 41, 42, 43, 44, 45, 46, 47, 48, 49, 50,\n",
       "        51, 52, 53, 54, 55, 56, 57, 58, 59, 60, 61, 62, 63, 64, 65, 66, 67,\n",
       "        68, 69, 70, 71, 72, 73, 74, 75, 76, 77, 78, 79, 80, 81, 82, 83, 84,\n",
       "        85, 86, 87, 88]),\n",
       " [Text(0, 0, 'Administrative'),\n",
       "  Text(1, 0, 'Administrative_Duration'),\n",
       "  Text(2, 0, 'Informational'),\n",
       "  Text(3, 0, 'Informational_Duration'),\n",
       "  Text(4, 0, 'ProductRelated'),\n",
       "  Text(5, 0, 'ProductRelated_Duration'),\n",
       "  Text(6, 0, 'BounceRates'),\n",
       "  Text(7, 0, 'ExitRates'),\n",
       "  Text(8, 0, 'PageValues'),\n",
       "  Text(9, 0, 'SpecialDay'),\n",
       "  Text(10, 0, '10'),\n",
       "  Text(11, 0, '11'),\n",
       "  Text(12, 0, '12'),\n",
       "  Text(13, 0, '13'),\n",
       "  Text(14, 0, '14'),\n",
       "  Text(15, 0, '15'),\n",
       "  Text(16, 0, '16'),\n",
       "  Text(17, 0, '17'),\n",
       "  Text(18, 0, '18'),\n",
       "  Text(19, 0, '19'),\n",
       "  Text(20, 0, '20'),\n",
       "  Text(21, 0, '21'),\n",
       "  Text(22, 0, '22'),\n",
       "  Text(23, 0, '23'),\n",
       "  Text(24, 0, '24'),\n",
       "  Text(25, 0, '25'),\n",
       "  Text(26, 0, '26'),\n",
       "  Text(27, 0, '27'),\n",
       "  Text(28, 0, '28'),\n",
       "  Text(29, 0, '29'),\n",
       "  Text(30, 0, '30'),\n",
       "  Text(31, 0, '31'),\n",
       "  Text(32, 0, '32'),\n",
       "  Text(33, 0, '33'),\n",
       "  Text(34, 0, '34'),\n",
       "  Text(35, 0, '35'),\n",
       "  Text(36, 0, '36'),\n",
       "  Text(37, 0, '37'),\n",
       "  Text(38, 0, '38'),\n",
       "  Text(39, 0, '39'),\n",
       "  Text(40, 0, '40'),\n",
       "  Text(41, 0, '41'),\n",
       "  Text(42, 0, '42'),\n",
       "  Text(43, 0, '43'),\n",
       "  Text(44, 0, '44'),\n",
       "  Text(45, 0, '45'),\n",
       "  Text(46, 0, '46'),\n",
       "  Text(47, 0, '47'),\n",
       "  Text(48, 0, '48'),\n",
       "  Text(49, 0, '49'),\n",
       "  Text(50, 0, '50'),\n",
       "  Text(51, 0, '51'),\n",
       "  Text(52, 0, '52'),\n",
       "  Text(53, 0, '53'),\n",
       "  Text(54, 0, '54'),\n",
       "  Text(55, 0, '55'),\n",
       "  Text(56, 0, '56'),\n",
       "  Text(57, 0, '57'),\n",
       "  Text(58, 0, '58'),\n",
       "  Text(59, 0, '59'),\n",
       "  Text(60, 0, '60'),\n",
       "  Text(61, 0, '61'),\n",
       "  Text(62, 0, '62'),\n",
       "  Text(63, 0, '63'),\n",
       "  Text(64, 0, '64'),\n",
       "  Text(65, 0, '65'),\n",
       "  Text(66, 0, '66'),\n",
       "  Text(67, 0, '67'),\n",
       "  Text(68, 0, '68'),\n",
       "  Text(69, 0, '69'),\n",
       "  Text(70, 0, '70'),\n",
       "  Text(71, 0, '71'),\n",
       "  Text(72, 0, '72'),\n",
       "  Text(73, 0, '73'),\n",
       "  Text(74, 0, '74'),\n",
       "  Text(75, 0, '75'),\n",
       "  Text(76, 0, '76'),\n",
       "  Text(77, 0, '77'),\n",
       "  Text(78, 0, '78'),\n",
       "  Text(79, 0, '79'),\n",
       "  Text(80, 0, '80'),\n",
       "  Text(81, 0, '81'),\n",
       "  Text(82, 0, '82'),\n",
       "  Text(83, 0, '83'),\n",
       "  Text(84, 0, '84'),\n",
       "  Text(85, 0, '85'),\n",
       "  Text(86, 0, '86'),\n",
       "  Text(87, 0, '87'),\n",
       "  Text(88, 0, '88')])"
      ]
     },
     "execution_count": 128,
     "metadata": {},
     "output_type": "execute_result"
    },
    {
     "data": {
      "image/png": "[encoded data removed]",
      "text/plain": [
       "<Figure size 1152x576 with 1 Axes>"
      ]
     },
     "metadata": {
      "needs_background": "light"
     },
     "output_type": "display_data"
    }
   ],
   "source": [
    "featureImportance = clf.feature_importances_\n",
    "featureName = [NUM_COLS[i] if i < len(NUM_COLS) else i for i in range(len(fi))]\n",
    "plt.figure(figsize=(16,8))\n",
    "sb.barplot(x=featureName, y=featureImportance)\n",
    "plt.xticks(rotation=90)"
   ]
  },
  {
   "cell_type": "code",
   "execution_count": 105,
   "id": "c2a922e4-ddb7-4454-b95a-2804689233a6",
   "metadata": {},
   "outputs": [
    {
     "data": {
      "text/plain": [
       "<AxesSubplot:xlabel='ExitRates', ylabel='Density'>"
      ]
     },
     "execution_count": 105,
     "metadata": {},
     "output_type": "execute_result"
    },
    {
     "data": {
      "image/png": "[encoded data removed]",
      "text/plain": [
       "<Figure size 432x288 with 1 Axes>"
      ]
     },
     "metadata": {
      "needs_background": "light"
     },
     "output_type": "display_data"
    }
   ],
   "source": [
    "sb.histplot(data=train, x=\"ExitRates\", hue=\"Revenue\", bins=100, stat=\"density\", common_norm=False,)"
   ]
  },
  {
   "cell_type": "code",
   "execution_count": 104,
   "id": "87dd0fad-2c2b-4306-bc42-6dc3fde26b8f",
   "metadata": {},
   "outputs": [
    {
     "data": {
      "text/plain": [
       "<AxesSubplot:xlabel='PageValues', ylabel='Density'>"
      ]
     },
     "execution_count": 104,
     "metadata": {},
     "output_type": "execute_result"
    },
    {
     "data": {
      "image/png": "[encoded data removed]",
      "text/plain": [
       "<Figure size 432x288 with 1 Axes>"
      ]
     },
     "metadata": {
      "needs_background": "light"
     },
     "output_type": "display_data"
    }
   ],
   "source": [
    "plt.xlim(0, 50)\n",
    "sb.histplot(data=train, x=\"PageValues\", hue=\"Revenue\", bins=100, stat=\"density\", common_norm=False,)"
   ]
  },
  {
   "cell_type": "code",
   "execution_count": 103,
   "id": "bd918911-8a72-408d-b3c7-b3e49e20989a",
   "metadata": {},
   "outputs": [
    {
     "data": {
      "text/plain": [
       "<AxesSubplot:xlabel='ProductRelated_Duration', ylabel='Density'>"
      ]
     },
     "execution_count": 103,
     "metadata": {},
     "output_type": "execute_result"
    },
    {
     "data": {
      "image/png": "[encoded data removed]",
      "text/plain": [
       "<Figure size 432x288 with 1 Axes>"
      ]
     },
     "metadata": {
      "needs_background": "light"
     },
     "output_type": "display_data"
    }
   ],
   "source": [
    "plt.xlim(0, 10)\n",
    "sb.histplot(data=train, x=\"ProductRelated_Duration\", hue=\"Revenue\", bins=100, stat=\"density\", common_norm=False,)"
   ]
  },
  {
   "cell_type": "code",
   "execution_count": 1,
   "id": "92a44d70-ec6b-43e4-9d9c-9f8ebd766c1c",
   "metadata": {},
   "outputs": [],
   "source": [
    "# explainer = shap.TreeExplainer(clf, X)\n",
    "# shap_values = explainer.shap_values(X)"
   ]
  },
  {
   "cell_type": "code",
   "execution_count": null,
   "id": "b236e2a2-dec8-4450-953b-dd7fa81b9ad9",
   "metadata": {},
   "outputs": [],
   "source": [
    "# shap.plots.force(shap_values)"
   ]
  },
  {
   "cell_type": "code",
   "execution_count": null,
   "id": "a92a4a1f-b001-4af2-b1b9-238682fdca06",
   "metadata": {},
   "outputs": [],
   "source": [
    "# shap.plots.scatter(shap_values)"
   ]
  },
  {
   "cell_type": "code",
   "execution_count": null,
   "id": "fe25565f-167d-446b-a512-4c828e4a1c6e",
   "metadata": {},
   "outputs": [],
   "source": [
    "# shap.plots.beeswarm(shap_values)"
   ]
  },
  {
   "cell_type": "code",
   "execution_count": null,
   "id": "fa040c92-ecd5-4f77-89ed-92891f208dc2",
   "metadata": {},
   "outputs": [],
   "source": [
    "# shap.plots.bar(shap_values)"
   ]
  },
  {
   "cell_type": "markdown",
   "id": "c05a0b1b-4d61-4698-bd47-a517459244e9",
   "metadata": {},
   "source": [
    "# submit"
   ]
  },
  {
   "cell_type": "code",
   "execution_count": 68,
   "id": "10923e07-11e8-45e3-bac0-46180867244b",
   "metadata": {},
   "outputs": [],
   "source": [
    "test = pd.read_csv(\"test.csv\", index_col=[\"ID\"])\n",
    "submit = pd.read_csv(\"sample_submission.csv\")"
   ]
  },
  {
   "cell_type": "code",
   "execution_count": 69,
   "id": "7dff1af4-cf88-44c5-83fc-2f00e89b36e0",
   "metadata": {},
   "outputs": [],
   "source": [
    "test['HasRevenue'] = rfPipe.predict_proba(test)[:, 1]"
   ]
  },
  {
   "cell_type": "code",
   "execution_count": 71,
   "id": "57dcae6e-aae4-47c1-98c7-0da61b818f73",
   "metadata": {},
   "outputs": [],
   "source": [
    "test.to_csv(\"sumbit.csv\", index=False)"
   ]
  },
  {
   "cell_type": "code",
   "execution_count": 72,
   "id": "9e7a44f4-785a-48f5-8d41-2807d6ea1be1",
   "metadata": {},
   "outputs": [
    {
     "data": {
      "text/html": [
       "<div>\n",
       "<style scoped>\n",
       "    .dataframe tbody tr th:only-of-type {\n",
       "        vertical-align: middle;\n",
       "    }\n",
       "\n",
       "    .dataframe tbody tr th {\n",
       "        vertical-align: top;\n",
       "    }\n",
       "\n",
       "    .dataframe thead th {\n",
       "        text-align: right;\n",
       "    }\n",
       "</style>\n",
       "<table border=\"1\" class=\"dataframe\">\n",
       "  <thead>\n",
       "    <tr style=\"text-align: right;\">\n",
       "      <th></th>\n",
       "      <th>ID</th>\n",
       "      <th>HasRevenue</th>\n",
       "    </tr>\n",
       "  </thead>\n",
       "  <tbody>\n",
       "    <tr>\n",
       "      <th>0</th>\n",
       "      <td>3</td>\n",
       "      <td>0.15</td>\n",
       "    </tr>\n",
       "    <tr>\n",
       "      <th>1</th>\n",
       "      <td>10</td>\n",
       "      <td>0.05</td>\n",
       "    </tr>\n",
       "    <tr>\n",
       "      <th>2</th>\n",
       "      <td>14</td>\n",
       "      <td>0.14</td>\n",
       "    </tr>\n",
       "    <tr>\n",
       "      <th>3</th>\n",
       "      <td>36</td>\n",
       "      <td>0.13</td>\n",
       "    </tr>\n",
       "    <tr>\n",
       "      <th>4</th>\n",
       "      <td>37</td>\n",
       "      <td>0.26</td>\n",
       "    </tr>\n",
       "    <tr>\n",
       "      <th>...</th>\n",
       "      <td>...</td>\n",
       "      <td>...</td>\n",
       "    </tr>\n",
       "    <tr>\n",
       "      <th>895</th>\n",
       "      <td>8946</td>\n",
       "      <td>0.17</td>\n",
       "    </tr>\n",
       "    <tr>\n",
       "      <th>896</th>\n",
       "      <td>8959</td>\n",
       "      <td>0.06</td>\n",
       "    </tr>\n",
       "    <tr>\n",
       "      <th>897</th>\n",
       "      <td>8960</td>\n",
       "      <td>0.03</td>\n",
       "    </tr>\n",
       "    <tr>\n",
       "      <th>898</th>\n",
       "      <td>8976</td>\n",
       "      <td>0.55</td>\n",
       "    </tr>\n",
       "    <tr>\n",
       "      <th>899</th>\n",
       "      <td>8978</td>\n",
       "      <td>0.15</td>\n",
       "    </tr>\n",
       "  </tbody>\n",
       "</table>\n",
       "<p>900 rows × 2 columns</p>\n",
       "</div>"
      ],
      "text/plain": [
       "       ID  HasRevenue\n",
       "0       3        0.15\n",
       "1      10        0.05\n",
       "2      14        0.14\n",
       "3      36        0.13\n",
       "4      37        0.26\n",
       "..    ...         ...\n",
       "895  8946        0.17\n",
       "896  8959        0.06\n",
       "897  8960        0.03\n",
       "898  8976        0.55\n",
       "899  8978        0.15\n",
       "\n",
       "[900 rows x 2 columns]"
      ]
     },
     "execution_count": 72,
     "metadata": {},
     "output_type": "execute_result"
    }
   ],
   "source": [
    "test.sort_index().reset_index()[['ID', 'HasRevenue']]"
   ]
  },
  {
   "cell_type": "markdown",
   "id": "3776db49-917a-4fd7-afa9-3a9707886119",
   "metadata": {},
   "source": [
    "# 加分題"
   ]
  },
  {
   "cell_type": "code",
   "execution_count": 31,
   "id": "364cd9da-bac0-4779-8eee-7a77737f5498",
   "metadata": {},
   "outputs": [],
   "source": [
    "CM_A = np.array([\n",
    "    [853,576],\n",
    "    [341,7230],\n",
    "])\n",
    "\n",
    "CM_B = np.array([\n",
    "    [846,583],\n",
    "    [316,7255],\n",
    "])"
   ]
  },
  {
   "cell_type": "code",
   "execution_count": 45,
   "id": "d8547472-f1d7-42e6-9550-1b2940c2813f",
   "metadata": {},
   "outputs": [],
   "source": [
    "def accuracy(cm: np.ndarray) -> float:\n",
    "    return cm.trace()/cm.sum()"
   ]
  },
  {
   "cell_type": "code",
   "execution_count": 49,
   "id": "fc1843f7-221d-4e59-a342-6684b6e9918b",
   "metadata": {},
   "outputs": [],
   "source": [
    "def precision(cm: np.ndarray) -> float:\n",
    "    return cm[0,0]/cm[:,0].sum()"
   ]
  },
  {
   "cell_type": "code",
   "execution_count": 46,
   "id": "714a1cf0-f08c-4b70-b730-8c336cc3ff4b",
   "metadata": {},
   "outputs": [],
   "source": [
    "def specificity(cm: np.ndarray) -> float:\n",
    "    return cm[0,0]/cm[0].sum()"
   ]
  },
  {
   "cell_type": "code",
   "execution_count": 60,
   "id": "9f574dee-0a13-4082-bf58-7d780b815a68",
   "metadata": {},
   "outputs": [],
   "source": [
    "def chisq(cm: np.ndarray) -> float:\n",
    "    stat, p, df, obs = chi2_contingency(cm)\n",
    "    return p"
   ]
  },
  {
   "cell_type": "code",
   "execution_count": 74,
   "id": "e0cbf287-11d6-4e34-a5dd-80f8606d6396",
   "metadata": {},
   "outputs": [],
   "source": [
    "from scipy.stats import binom_test"
   ]
  },
  {
   "cell_type": "code",
   "execution_count": 61,
   "id": "055d769a-862f-41af-b240-96141d27dc95",
   "metadata": {},
   "outputs": [],
   "source": [
    "metrics = [\n",
    "    {\n",
    "         \"model\": \"A\", \n",
    "         \"accuracy\": accuracy(CM_A), \n",
    "         \"precision\": precision(CM_A),\n",
    "         \"specificity\": specificity(CM_A),\n",
    "         \"significance\": chisq(CM_A),\n",
    "    },\n",
    "    {\n",
    "        \"model\": \"B\", \n",
    "         \"accuracy\": accuracy(CM_B), \n",
    "         \"precision\": precision(CM_B),\n",
    "         \"specificity\": specificity(CM_B),\n",
    "         \"significance\": chisq(CM_B),\n",
    "    },\n",
    "]"
   ]
  },
  {
   "cell_type": "code",
   "execution_count": 79,
   "id": "6a37ff2a-405a-4842-842c-273da97c57ca",
   "metadata": {},
   "outputs": [
    {
     "data": {
      "text/html": [
       "<div>\n",
       "<style scoped>\n",
       "    .dataframe tbody tr th:only-of-type {\n",
       "        vertical-align: middle;\n",
       "    }\n",
       "\n",
       "    .dataframe tbody tr th {\n",
       "        vertical-align: top;\n",
       "    }\n",
       "\n",
       "    .dataframe thead th {\n",
       "        text-align: right;\n",
       "    }\n",
       "</style>\n",
       "<table border=\"1\" class=\"dataframe\">\n",
       "  <thead>\n",
       "    <tr style=\"text-align: right;\">\n",
       "      <th></th>\n",
       "      <th>accuracy</th>\n",
       "      <th>precision</th>\n",
       "      <th>specificity</th>\n",
       "      <th>significance</th>\n",
       "    </tr>\n",
       "    <tr>\n",
       "      <th>model</th>\n",
       "      <th></th>\n",
       "      <th></th>\n",
       "      <th></th>\n",
       "      <th></th>\n",
       "    </tr>\n",
       "  </thead>\n",
       "  <tbody>\n",
       "    <tr>\n",
       "      <th>A</th>\n",
       "      <td>0.898111</td>\n",
       "      <td>0.714405</td>\n",
       "      <td>0.596921</td>\n",
       "      <td>0.0</td>\n",
       "    </tr>\n",
       "    <tr>\n",
       "      <th>B</th>\n",
       "      <td>0.900111</td>\n",
       "      <td>0.728055</td>\n",
       "      <td>0.592022</td>\n",
       "      <td>0.0</td>\n",
       "    </tr>\n",
       "  </tbody>\n",
       "</table>\n",
       "</div>"
      ],
      "text/plain": [
       "       accuracy  precision  specificity  significance\n",
       "model                                                \n",
       "A      0.898111   0.714405     0.596921           0.0\n",
       "B      0.900111   0.728055     0.592022           0.0"
      ]
     },
     "execution_count": 79,
     "metadata": {},
     "output_type": "execute_result"
    }
   ],
   "source": [
    "metrics = pd.DataFrame(metrics).set_index(\"model\")\n",
    "metrics"
   ]
  },
  {
   "cell_type": "code",
   "execution_count": 81,
   "id": "1ba89695-af30-44bd-8929-291e5ba5294c",
   "metadata": {},
   "outputs": [
    {
     "data": {
      "text/html": [
       "<div>\n",
       "<style scoped>\n",
       "    .dataframe tbody tr th:only-of-type {\n",
       "        vertical-align: middle;\n",
       "    }\n",
       "\n",
       "    .dataframe tbody tr th {\n",
       "        vertical-align: top;\n",
       "    }\n",
       "\n",
       "    .dataframe thead th {\n",
       "        text-align: right;\n",
       "    }\n",
       "</style>\n",
       "<table border=\"1\" class=\"dataframe\">\n",
       "  <thead>\n",
       "    <tr style=\"text-align: right;\">\n",
       "      <th></th>\n",
       "      <th>accuracy</th>\n",
       "      <th>precision</th>\n",
       "      <th>specificity</th>\n",
       "      <th>significance</th>\n",
       "    </tr>\n",
       "    <tr>\n",
       "      <th>model</th>\n",
       "      <th></th>\n",
       "      <th></th>\n",
       "      <th></th>\n",
       "      <th></th>\n",
       "    </tr>\n",
       "  </thead>\n",
       "  <tbody>\n",
       "    <tr>\n",
       "      <th>A</th>\n",
       "      <td>NaN</td>\n",
       "      <td>NaN</td>\n",
       "      <td>NaN</td>\n",
       "      <td>NaN</td>\n",
       "    </tr>\n",
       "    <tr>\n",
       "      <th>B</th>\n",
       "      <td>0.002</td>\n",
       "      <td>0.01365</td>\n",
       "      <td>-0.004899</td>\n",
       "      <td>0.0</td>\n",
       "    </tr>\n",
       "  </tbody>\n",
       "</table>\n",
       "</div>"
      ],
      "text/plain": [
       "       accuracy  precision  specificity  significance\n",
       "model                                                \n",
       "A           NaN        NaN          NaN           NaN\n",
       "B         0.002    0.01365    -0.004899           0.0"
      ]
     },
     "execution_count": 81,
     "metadata": {},
     "output_type": "execute_result"
    }
   ],
   "source": [
    "metrics.diff()"
   ]
  },
  {
   "cell_type": "markdown",
   "id": "3472d17a-40e9-4ddf-89f5-cd375cc58b80",
   "metadata": {},
   "source": [
    "兩個模型差異不大，Model B 主要在precision的部分略高於 Model A的表現\n",
    "\n",
    "若 Model B 預測的名單共10000則廣告，平均而言會比 Model A 多100次點擊"
   ]
  }
 ],
 "metadata": {
  "kernelspec": {
   "display_name": "Python 3",
   "language": "python",
   "name": "python3"
  },
  "language_info": {
   "codemirror_mode": {
    "name": "ipython",
    "version": 3
   },
   "file_extension": ".py",
   "mimetype": "text/x-python",
   "name": "python",
   "nbconvert_exporter": "python",
   "pygments_lexer": "ipython3",
   "version": "3.8.8"
  }
 },
 "nbformat": 4,
 "nbformat_minor": 5
}
